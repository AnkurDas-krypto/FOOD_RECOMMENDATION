{
 "cells": [
  {
   "cell_type": "code",
   "execution_count": 1,
   "id": "piano-march",
   "metadata": {},
   "outputs": [],
   "source": [
    "import pandas as pd\n",
    "import json\n",
    "import numpy as np"
   ]
  },
  {
   "cell_type": "code",
   "execution_count": 2,
   "id": "drawn-smile",
   "metadata": {},
   "outputs": [],
   "source": [
    "from recipe_scrapers import scrape_me\n",
    "import pandas as pd\n",
    "import re\n",
    "import requests\n",
    "from bs4 import BeautifulSoup as bs\n",
    "import numpy as np"
   ]
  },
  {
   "cell_type": "code",
   "execution_count": 3,
   "id": "brave-silver",
   "metadata": {},
   "outputs": [],
   "source": [
    "layer41_food_dataset = pd.read_csv(r\"C:\\Users\\ankur\\OneDrive\\Desktop\\Internship\\layer1_food_dataset_41.csv\")"
   ]
  },
  {
   "cell_type": "code",
   "execution_count": 4,
   "id": "modified-setup",
   "metadata": {},
   "outputs": [
    {
     "name": "stdout",
     "output_type": "stream",
     "text": [
      "Wall time: 12min 14s\n"
     ]
    }
   ],
   "source": [
    "%%time\n",
    "Nutritions41=[]\n",
    "\n",
    "for url,title in layer41_food_dataset[['url','title']][3000:4000].itertuples(index=False):\n",
    "    \n",
    "    try:\n",
    "          scraper = scrape_me(url)\n",
    "          nutrition = scraper.nutrients()\n",
    "          nutrition['title'] = title\n",
    "          Nutritions41.append(nutrition)\n",
    "    except:\n",
    "      \n",
    "          Nutritions41.append(np.nan)"
   ]
  },
  {
   "cell_type": "code",
   "execution_count": 5,
   "id": "immediate-local",
   "metadata": {},
   "outputs": [],
   "source": [
    "nutri = [[i] for i in Nutritions41]"
   ]
  },
  {
   "cell_type": "code",
   "execution_count": 6,
   "id": "victorian-plastic",
   "metadata": {},
   "outputs": [],
   "source": [
    "df_7 = pd.DataFrame(nutri, columns = ['Nutritions'])"
   ]
  },
  {
   "cell_type": "code",
   "execution_count": 7,
   "id": "grand-funeral",
   "metadata": {},
   "outputs": [],
   "source": [
    "layer41_food_dataset['Nutritions'] = df_7"
   ]
  },
  {
   "cell_type": "code",
   "execution_count": 8,
   "id": "imported-appearance",
   "metadata": {},
   "outputs": [],
   "source": [
    "layer41_food_dataset.to_csv(r\"C:\\Users\\ankur\\OneDrive\\Desktop\\Internship\\layer1_food_dataset_41_3000-4000_new.csv\")"
   ]
  },
  {
   "cell_type": "code",
   "execution_count": null,
   "id": "frequent-motion",
   "metadata": {},
   "outputs": [],
   "source": [
    "C:\\Users\\ankur\\OneDrive\\Desktop\\Internship\\"
   ]
  }
 ],
 "metadata": {
  "kernelspec": {
   "display_name": "Python 3",
   "language": "python",
   "name": "python3"
  },
  "language_info": {
   "codemirror_mode": {
    "name": "ipython",
    "version": 3
   },
   "file_extension": ".py",
   "mimetype": "text/x-python",
   "name": "python",
   "nbconvert_exporter": "python",
   "pygments_lexer": "ipython3",
   "version": "3.8.5"
  }
 },
 "nbformat": 4,
 "nbformat_minor": 5
}
