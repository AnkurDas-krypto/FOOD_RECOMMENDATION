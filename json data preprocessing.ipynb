{
 "cells": [
  {
   "cell_type": "code",
   "execution_count": 1,
   "id": "human-penguin",
   "metadata": {},
   "outputs": [],
   "source": [
    "data = [{\"ingredients\": [{\"text\": \"6 ounces penne\"}, {\"text\": \"2 cups Beechers Flagship Cheese Sauce (recipe follows)\"}, {\"text\": \"1 ounce Cheddar, grated (1/4 cup)\"}, {\"text\": \"1 ounce Gruyere cheese, grated (1/4 cup)\"}, {\"text\": \"1/4 to 1/2 teaspoon chipotle chili powder (see Note)\"}, {\"text\": \"1/4 cup (1/2 stick) unsalted butter\"}, {\"text\": \"1/3 cup all-purpose flour\"}, {\"text\": \"3 cups milk\"}, {\"text\": \"14 ounces semihard cheese (page 23), grated (about 3 1/2 cups)\"}, {\"text\": \"2 ounces semisoft cheese (page 23), grated (1/2 cup)\"}, {\"text\": \"1/2 teaspoon kosher salt\"}, {\"text\": \"1/4 to 1/2 teaspoon chipotle chili powder\"}, {\"text\": \"1/8 teaspoon garlic powder\"}, {\"text\": \"(makes about 4 cups)\"}], \"url\": \"http://www.epicurious.com/recipes/food/views/-world-s-best-mac-and-cheese-387747\", \"partition\": \"train\", \"title\": \"Worlds Best Mac and Cheese\", \"id\": \"000018c8a5\", \"instructions\": [{\"text\": \"Preheat the oven to 350 F. Butter or oil an 8-inch baking dish.\"}, {\"text\": \"Cook the penne 2 minutes less than package directions.\"}, {\"text\": \"(It will finish cooking in the oven.)\"}, {\"text\": \"Rinse the pasta in cold water and set aside.\"}, {\"text\": \"Combine the cooked pasta and the sauce in a medium bowl and mix carefully but thoroughly.\"}, {\"text\": \"Scrape the pasta into the prepared baking dish.\"}, {\"text\": \"Sprinkle the top with the cheeses and then the chili powder.\"}, {\"text\": \"Bake, uncovered, for 20 minutes.\"}, {\"text\": \"Let the mac and cheese sit for 5 minutes before serving.\"}, {\"text\": \"Melt the butter in a heavy-bottomed saucepan over medium heat and whisk in the flour.\"}, {\"text\": \"Continue whisking and cooking for 2 minutes.\"}, {\"text\": \"Slowly add the milk, whisking constantly.\"}, {\"text\": \"Cook until the sauce thickens, about 10 minutes, stirring frequently.\"}, {\"text\": \"Remove from the heat.\"}, {\"text\": \"Add the cheeses, salt, chili powder, and garlic powder.\"}, {\"text\": \"Stir until the cheese is melted and all ingredients are incorporated, about 3 minutes.\"}, {\"text\": \"Use immediately, or refrigerate for up to 3 days.\"}, {\"text\": \"This sauce reheats nicely on the stove in a saucepan over low heat.\"}, {\"text\": \"Stir frequently so the sauce doesnt scorch.\"}, {\"text\": \"This recipe can be assembled before baking and frozen for up to 3 monthsjust be sure to use a freezer-to-oven pan and increase the baking time to 50 minutes.\"}, {\"text\": \"One-half teaspoon of chipotle chili powder makes a spicy mac, so make sure your family and friends can handle it!\"}, {\"text\": \"The proportion of pasta to cheese sauce is crucial to the success of the dish.\"}, {\"text\": \"It will look like a lot of sauce for the pasta, but some of the liquid will be absorbed.\"}]},\n",
    "{\"ingredients\": [{\"text\": \"1 c. elbow macaroni\"}, {\"text\": \"1 c. cubed American cheese (4 ounce.)\"}, {\"text\": \"1/2 c. sliced celery\"}, {\"text\": \"1/2 c. minced green pepper\"}, {\"text\": \"3 tbsp. minced pimento\"}, {\"text\": \"1/2 c. mayonnaise or possibly salad dressing\"}, {\"text\": \"1 tbsp. vinegar\"}, {\"text\": \"3/4 teaspoon salt\"}, {\"text\": \"1/2 teaspoon dry dill weed\"}], \"url\": \"http://cookeatshare.com/recipes/dilly-macaroni-salad-49166\", \"partition\": \"train\", \"title\": \"Dilly Macaroni Salad Recipe\", \"id\": \"000033e39b\", \"instructions\": [{\"text\": \"Cook macaroni according to package directions; drain well.\"}, {\"text\": \"Cold.\"}, {\"text\": \"Combine macaroni, cheese cubes, celery, green pepper and pimento.\"}, {\"text\": \"Blend together mayonnaise or possibly salad dressing, vinegar, salt and dill weed; add in to macaroni mix.\"}, {\"text\": \"Toss lightly.\"}, {\"text\": \"Cover and refrigeratewell.\"}, {\"text\": \"Serve salad in lettuce lined bowl if you like.\"}, {\"text\": \"Makes 6 servings.\"}]}]"
   ]
  },
  {
   "cell_type": "code",
   "execution_count": 2,
   "id": "subjective-moore",
   "metadata": {},
   "outputs": [
    {
     "data": {
      "text/plain": [
       "[{'ingredients': [{'text': '6 ounces penne'},\n",
       "   {'text': '2 cups Beechers Flagship Cheese Sauce (recipe follows)'},\n",
       "   {'text': '1 ounce Cheddar, grated (1/4 cup)'},\n",
       "   {'text': '1 ounce Gruyere cheese, grated (1/4 cup)'},\n",
       "   {'text': '1/4 to 1/2 teaspoon chipotle chili powder (see Note)'},\n",
       "   {'text': '1/4 cup (1/2 stick) unsalted butter'},\n",
       "   {'text': '1/3 cup all-purpose flour'},\n",
       "   {'text': '3 cups milk'},\n",
       "   {'text': '14 ounces semihard cheese (page 23), grated (about 3 1/2 cups)'},\n",
       "   {'text': '2 ounces semisoft cheese (page 23), grated (1/2 cup)'},\n",
       "   {'text': '1/2 teaspoon kosher salt'},\n",
       "   {'text': '1/4 to 1/2 teaspoon chipotle chili powder'},\n",
       "   {'text': '1/8 teaspoon garlic powder'},\n",
       "   {'text': '(makes about 4 cups)'}],\n",
       "  'url': 'http://www.epicurious.com/recipes/food/views/-world-s-best-mac-and-cheese-387747',\n",
       "  'partition': 'train',\n",
       "  'title': 'Worlds Best Mac and Cheese',\n",
       "  'id': '000018c8a5',\n",
       "  'instructions': [{'text': 'Preheat the oven to 350 F. Butter or oil an 8-inch baking dish.'},\n",
       "   {'text': 'Cook the penne 2 minutes less than package directions.'},\n",
       "   {'text': '(It will finish cooking in the oven.)'},\n",
       "   {'text': 'Rinse the pasta in cold water and set aside.'},\n",
       "   {'text': 'Combine the cooked pasta and the sauce in a medium bowl and mix carefully but thoroughly.'},\n",
       "   {'text': 'Scrape the pasta into the prepared baking dish.'},\n",
       "   {'text': 'Sprinkle the top with the cheeses and then the chili powder.'},\n",
       "   {'text': 'Bake, uncovered, for 20 minutes.'},\n",
       "   {'text': 'Let the mac and cheese sit for 5 minutes before serving.'},\n",
       "   {'text': 'Melt the butter in a heavy-bottomed saucepan over medium heat and whisk in the flour.'},\n",
       "   {'text': 'Continue whisking and cooking for 2 minutes.'},\n",
       "   {'text': 'Slowly add the milk, whisking constantly.'},\n",
       "   {'text': 'Cook until the sauce thickens, about 10 minutes, stirring frequently.'},\n",
       "   {'text': 'Remove from the heat.'},\n",
       "   {'text': 'Add the cheeses, salt, chili powder, and garlic powder.'},\n",
       "   {'text': 'Stir until the cheese is melted and all ingredients are incorporated, about 3 minutes.'},\n",
       "   {'text': 'Use immediately, or refrigerate for up to 3 days.'},\n",
       "   {'text': 'This sauce reheats nicely on the stove in a saucepan over low heat.'},\n",
       "   {'text': 'Stir frequently so the sauce doesnt scorch.'},\n",
       "   {'text': 'This recipe can be assembled before baking and frozen for up to 3 monthsjust be sure to use a freezer-to-oven pan and increase the baking time to 50 minutes.'},\n",
       "   {'text': 'One-half teaspoon of chipotle chili powder makes a spicy mac, so make sure your family and friends can handle it!'},\n",
       "   {'text': 'The proportion of pasta to cheese sauce is crucial to the success of the dish.'},\n",
       "   {'text': 'It will look like a lot of sauce for the pasta, but some of the liquid will be absorbed.'}]},\n",
       " {'ingredients': [{'text': '1 c. elbow macaroni'},\n",
       "   {'text': '1 c. cubed American cheese (4 ounce.)'},\n",
       "   {'text': '1/2 c. sliced celery'},\n",
       "   {'text': '1/2 c. minced green pepper'},\n",
       "   {'text': '3 tbsp. minced pimento'},\n",
       "   {'text': '1/2 c. mayonnaise or possibly salad dressing'},\n",
       "   {'text': '1 tbsp. vinegar'},\n",
       "   {'text': '3/4 teaspoon salt'},\n",
       "   {'text': '1/2 teaspoon dry dill weed'}],\n",
       "  'url': 'http://cookeatshare.com/recipes/dilly-macaroni-salad-49166',\n",
       "  'partition': 'train',\n",
       "  'title': 'Dilly Macaroni Salad Recipe',\n",
       "  'id': '000033e39b',\n",
       "  'instructions': [{'text': 'Cook macaroni according to package directions; drain well.'},\n",
       "   {'text': 'Cold.'},\n",
       "   {'text': 'Combine macaroni, cheese cubes, celery, green pepper and pimento.'},\n",
       "   {'text': 'Blend together mayonnaise or possibly salad dressing, vinegar, salt and dill weed; add in to macaroni mix.'},\n",
       "   {'text': 'Toss lightly.'},\n",
       "   {'text': 'Cover and refrigeratewell.'},\n",
       "   {'text': 'Serve salad in lettuce lined bowl if you like.'},\n",
       "   {'text': 'Makes 6 servings.'}]}]"
      ]
     },
     "execution_count": 2,
     "metadata": {},
     "output_type": "execute_result"
    }
   ],
   "source": [
    "data"
   ]
  },
  {
   "cell_type": "code",
   "execution_count": 11,
   "id": "acute-radical",
   "metadata": {},
   "outputs": [
    {
     "data": {
      "text/plain": [
       "list"
      ]
     },
     "execution_count": 11,
     "metadata": {},
     "output_type": "execute_result"
    }
   ],
   "source": [
    "type(data)"
   ]
  },
  {
   "cell_type": "code",
   "execution_count": 4,
   "id": "attached-sodium",
   "metadata": {},
   "outputs": [],
   "source": [
    "import pandas as pd"
   ]
  },
  {
   "cell_type": "code",
   "execution_count": 75,
   "id": "present-pharmacy",
   "metadata": {},
   "outputs": [
    {
     "name": "stdout",
     "output_type": "stream",
     "text": [
      "{'ingredients': [{'text': '6 ounces penne'}, {'text': '2 cups Beechers Flagship Cheese Sauce (recipe follows)'}, {'text': '1 ounce Cheddar, grated (1/4 cup)'}, {'text': '1 ounce Gruyere cheese, grated (1/4 cup)'}, {'text': '1/4 to 1/2 teaspoon chipotle chili powder (see Note)'}, {'text': '1/4 cup (1/2 stick) unsalted butter'}, {'text': '1/3 cup all-purpose flour'}, {'text': '3 cups milk'}, {'text': '14 ounces semihard cheese (page 23), grated (about 3 1/2 cups)'}, {'text': '2 ounces semisoft cheese (page 23), grated (1/2 cup)'}, {'text': '1/2 teaspoon kosher salt'}, {'text': '1/4 to 1/2 teaspoon chipotle chili powder'}, {'text': '1/8 teaspoon garlic powder'}, {'text': '(makes about 4 cups)'}], 'url': 'http://www.epicurious.com/recipes/food/views/-world-s-best-mac-and-cheese-387747', 'partition': 'train', 'title': 'Worlds Best Mac and Cheese', 'id': '000018c8a5', 'instructions': [{'text': 'Preheat the oven to 350 F. Butter or oil an 8-inch baking dish.'}, {'text': 'Cook the penne 2 minutes less than package directions.'}, {'text': '(It will finish cooking in the oven.)'}, {'text': 'Rinse the pasta in cold water and set aside.'}, {'text': 'Combine the cooked pasta and the sauce in a medium bowl and mix carefully but thoroughly.'}, {'text': 'Scrape the pasta into the prepared baking dish.'}, {'text': 'Sprinkle the top with the cheeses and then the chili powder.'}, {'text': 'Bake, uncovered, for 20 minutes.'}, {'text': 'Let the mac and cheese sit for 5 minutes before serving.'}, {'text': 'Melt the butter in a heavy-bottomed saucepan over medium heat and whisk in the flour.'}, {'text': 'Continue whisking and cooking for 2 minutes.'}, {'text': 'Slowly add the milk, whisking constantly.'}, {'text': 'Cook until the sauce thickens, about 10 minutes, stirring frequently.'}, {'text': 'Remove from the heat.'}, {'text': 'Add the cheeses, salt, chili powder, and garlic powder.'}, {'text': 'Stir until the cheese is melted and all ingredients are incorporated, about 3 minutes.'}, {'text': 'Use immediately, or refrigerate for up to 3 days.'}, {'text': 'This sauce reheats nicely on the stove in a saucepan over low heat.'}, {'text': 'Stir frequently so the sauce doesnt scorch.'}, {'text': 'This recipe can be assembled before baking and frozen for up to 3 monthsjust be sure to use a freezer-to-oven pan and increase the baking time to 50 minutes.'}, {'text': 'One-half teaspoon of chipotle chili powder makes a spicy mac, so make sure your family and friends can handle it!'}, {'text': 'The proportion of pasta to cheese sauce is crucial to the success of the dish.'}, {'text': 'It will look like a lot of sauce for the pasta, but some of the liquid will be absorbed.'}]}\n",
      "{'ingredients': [{'text': '1 c. elbow macaroni'}, {'text': '1 c. cubed American cheese (4 ounce.)'}, {'text': '1/2 c. sliced celery'}, {'text': '1/2 c. minced green pepper'}, {'text': '3 tbsp. minced pimento'}, {'text': '1/2 c. mayonnaise or possibly salad dressing'}, {'text': '1 tbsp. vinegar'}, {'text': '3/4 teaspoon salt'}, {'text': '1/2 teaspoon dry dill weed'}], 'url': 'http://cookeatshare.com/recipes/dilly-macaroni-salad-49166', 'partition': 'train', 'title': 'Dilly Macaroni Salad Recipe', 'id': '000033e39b', 'instructions': [{'text': 'Cook macaroni according to package directions; drain well.'}, {'text': 'Cold.'}, {'text': 'Combine macaroni, cheese cubes, celery, green pepper and pimento.'}, {'text': 'Blend together mayonnaise or possibly salad dressing, vinegar, salt and dill weed; add in to macaroni mix.'}, {'text': 'Toss lightly.'}, {'text': 'Cover and refrigeratewell.'}, {'text': 'Serve salad in lettuce lined bowl if you like.'}, {'text': 'Makes 6 servings.'}]}\n"
     ]
    }
   ],
   "source": [
    "for json in data:\n",
    "    print(json)\n",
    "   \n",
    "    "
   ]
  },
  {
   "cell_type": "code",
   "execution_count": 76,
   "id": "terminal-fancy",
   "metadata": {},
   "outputs": [
    {
     "data": {
      "text/plain": [
       "dict"
      ]
     },
     "execution_count": 76,
     "metadata": {},
     "output_type": "execute_result"
    }
   ],
   "source": [
    " type(json)"
   ]
  },
  {
   "cell_type": "code",
   "execution_count": 77,
   "id": "subjective-checklist",
   "metadata": {},
   "outputs": [],
   "source": [
    "ingredients = json['ingredients']"
   ]
  },
  {
   "cell_type": "code",
   "execution_count": 78,
   "id": "plastic-specialist",
   "metadata": {},
   "outputs": [
    {
     "data": {
      "text/plain": [
       "[{'text': '1 c. elbow macaroni'},\n",
       " {'text': '1 c. cubed American cheese (4 ounce.)'},\n",
       " {'text': '1/2 c. sliced celery'},\n",
       " {'text': '1/2 c. minced green pepper'},\n",
       " {'text': '3 tbsp. minced pimento'},\n",
       " {'text': '1/2 c. mayonnaise or possibly salad dressing'},\n",
       " {'text': '1 tbsp. vinegar'},\n",
       " {'text': '3/4 teaspoon salt'},\n",
       " {'text': '1/2 teaspoon dry dill weed'}]"
      ]
     },
     "execution_count": 78,
     "metadata": {},
     "output_type": "execute_result"
    }
   ],
   "source": [
    "ingredients"
   ]
  },
  {
   "cell_type": "code",
   "execution_count": 79,
   "id": "boolean-canal",
   "metadata": {},
   "outputs": [
    {
     "name": "stdout",
     "output_type": "stream",
     "text": [
      "{'text': '1 c. elbow macaroni'}\n",
      "{'text': '1 c. cubed American cheese (4 ounce.)'}\n",
      "{'text': '1/2 c. sliced celery'}\n",
      "{'text': '1/2 c. minced green pepper'}\n",
      "{'text': '3 tbsp. minced pimento'}\n",
      "{'text': '1/2 c. mayonnaise or possibly salad dressing'}\n",
      "{'text': '1 tbsp. vinegar'}\n",
      "{'text': '3/4 teaspoon salt'}\n",
      "{'text': '1/2 teaspoon dry dill weed'}\n"
     ]
    }
   ],
   "source": [
    "for text in ingredients:\n",
    "    print(text)\n",
    "    "
   ]
  },
  {
   "cell_type": "code",
   "execution_count": 81,
   "id": "accompanied-narrative",
   "metadata": {},
   "outputs": [
    {
     "data": {
      "text/plain": [
       "'1/2 teaspoon dry dill weed'"
      ]
     },
     "execution_count": 81,
     "metadata": {},
     "output_type": "execute_result"
    }
   ],
   "source": [
    "ingredients_text = text['text']\n",
    "ingredients_text"
   ]
  },
  {
   "cell_type": "code",
   "execution_count": 5,
   "id": "demonstrated-cooler",
   "metadata": {},
   "outputs": [],
   "source": [
    "lst = []\n",
    "ins_dataframe= pd.DataFrame()\n",
    "for json in data:\n",
    "    ingredients = json['ingredients']\n",
    "    for text in ingredients:\n",
    "        ingredients_text = text['text']\n",
    "        lst.append(ingredients_text)\n",
    "        l = ' '.join(lst)\n",
    "        series_ins = pd.Series(l)\n",
    "        ins_dataframe['ins'] = series_ins"
   ]
  },
  {
   "cell_type": "code",
   "execution_count": 6,
   "id": "incorrect-dayton",
   "metadata": {},
   "outputs": [
    {
     "data": {
      "text/plain": [
       "6 ounces penne 2 cups Beechers Flagship Cheese Sauce (recipe follows) 1 ounce Cheddar, grated (1/4 cup) 1 ounce Gruyere cheese, grated (1/4 cup) 1/4 to 1/2 teaspoon chipotle chili powder (see Note) 1/4 cup (1/2 stick) unsalted butter 1/3 cup all-purpose flour 3 cups milk 14 ounces semihard cheese (page 23), grated (about 3 1/2 cups) 2 ounces semisoft cheese (page 23), grated (1/2 cup) 1/2 teaspoon kosher salt 1/4 to 1/2 teaspoon chipotle chili powder 1/8 teaspoon garlic powder (makes about 4 cups) 1 c. elbow macaroni 1 c. cubed American cheese (4 ounce.) 1/2 c. sliced celery 1/2 c. minced green pepper 3 tbsp. minced pimento 1/2 c. mayonnaise or possibly salad dressing 1 tbsp. vinegar 3/4 teaspoon salt 1/2 teaspoon dry dill weed    1\n",
       "Name: ins, dtype: int64"
      ]
     },
     "execution_count": 6,
     "metadata": {},
     "output_type": "execute_result"
    }
   ],
   "source": [
    "ins_dataframe['ins'].value_counts()"
   ]
  },
  {
   "cell_type": "code",
   "execution_count": 213,
   "id": "recognized-citizenship",
   "metadata": {},
   "outputs": [
    {
     "data": {
      "text/plain": [
       "'1/2 teaspoon dry dill weed'"
      ]
     },
     "execution_count": 213,
     "metadata": {},
     "output_type": "execute_result"
    }
   ],
   "source": [
    "for text in ingredients:\n",
    "    ingredients_text = text['text']\n",
    "ingredients_text    "
   ]
  },
  {
   "cell_type": "code",
   "execution_count": 86,
   "id": "specific-encounter",
   "metadata": {},
   "outputs": [
    {
     "data": {
      "text/plain": [
       "['6 ounces penne',\n",
       " '2 cups Beechers Flagship Cheese Sauce (recipe follows)',\n",
       " '1 ounce Cheddar, grated (1/4 cup)',\n",
       " '1 ounce Gruyere cheese, grated (1/4 cup)',\n",
       " '1/4 to 1/2 teaspoon chipotle chili powder (see Note)',\n",
       " '1/4 cup (1/2 stick) unsalted butter',\n",
       " '1/3 cup all-purpose flour',\n",
       " '3 cups milk',\n",
       " '14 ounces semihard cheese (page 23), grated (about 3 1/2 cups)',\n",
       " '2 ounces semisoft cheese (page 23), grated (1/2 cup)',\n",
       " '1/2 teaspoon kosher salt',\n",
       " '1/4 to 1/2 teaspoon chipotle chili powder',\n",
       " '1/8 teaspoon garlic powder',\n",
       " '(makes about 4 cups)',\n",
       " '1 c. elbow macaroni',\n",
       " '1 c. cubed American cheese (4 ounce.)',\n",
       " '1/2 c. sliced celery',\n",
       " '1/2 c. minced green pepper',\n",
       " '3 tbsp. minced pimento',\n",
       " '1/2 c. mayonnaise or possibly salad dressing',\n",
       " '1 tbsp. vinegar',\n",
       " '3/4 teaspoon salt',\n",
       " '1/2 teaspoon dry dill weed']"
      ]
     },
     "execution_count": 86,
     "metadata": {},
     "output_type": "execute_result"
    }
   ],
   "source": [
    "lst"
   ]
  },
  {
   "cell_type": "code",
   "execution_count": 97,
   "id": "collectible-workshop",
   "metadata": {},
   "outputs": [
    {
     "name": "stdout",
     "output_type": "stream",
     "text": [
      "http://www.epicurious.com/recipes/food/views/-world-s-best-mac-and-cheese-387747\n",
      "http://cookeatshare.com/recipes/dilly-macaroni-salad-49166\n"
     ]
    }
   ],
   "source": [
    "url = []\n",
    "for json in data:\n",
    "    print(json['url'])\n",
    "    url.append(json['url'])"
   ]
  },
  {
   "cell_type": "code",
   "execution_count": 98,
   "id": "ahead-permit",
   "metadata": {},
   "outputs": [
    {
     "data": {
      "text/plain": [
       "['http://www.epicurious.com/recipes/food/views/-world-s-best-mac-and-cheese-387747',\n",
       " 'http://cookeatshare.com/recipes/dilly-macaroni-salad-49166']"
      ]
     },
     "execution_count": 98,
     "metadata": {},
     "output_type": "execute_result"
    }
   ],
   "source": [
    "url"
   ]
  },
  {
   "cell_type": "code",
   "execution_count": null,
   "id": "acoustic-appearance",
   "metadata": {},
   "outputs": [],
   "source": []
  },
  {
   "cell_type": "code",
   "execution_count": null,
   "id": "numerical-double",
   "metadata": {},
   "outputs": [],
   "source": []
  },
  {
   "cell_type": "code",
   "execution_count": 101,
   "id": "careful-flush",
   "metadata": {},
   "outputs": [],
   "source": [
    "instructions = []\n",
    "for json in data:\n",
    "    instruc = json['instructions']\n",
    "    for ins in instruc:\n",
    "        instructions_text = ins['text']\n",
    "        instructions.append(instructions_text)"
   ]
  },
  {
   "cell_type": "code",
   "execution_count": 102,
   "id": "flexible-designer",
   "metadata": {},
   "outputs": [
    {
     "data": {
      "text/plain": [
       "['Preheat the oven to 350 F. Butter or oil an 8-inch baking dish.',\n",
       " 'Cook the penne 2 minutes less than package directions.',\n",
       " '(It will finish cooking in the oven.)',\n",
       " 'Rinse the pasta in cold water and set aside.',\n",
       " 'Combine the cooked pasta and the sauce in a medium bowl and mix carefully but thoroughly.',\n",
       " 'Scrape the pasta into the prepared baking dish.',\n",
       " 'Sprinkle the top with the cheeses and then the chili powder.',\n",
       " 'Bake, uncovered, for 20 minutes.',\n",
       " 'Let the mac and cheese sit for 5 minutes before serving.',\n",
       " 'Melt the butter in a heavy-bottomed saucepan over medium heat and whisk in the flour.',\n",
       " 'Continue whisking and cooking for 2 minutes.',\n",
       " 'Slowly add the milk, whisking constantly.',\n",
       " 'Cook until the sauce thickens, about 10 minutes, stirring frequently.',\n",
       " 'Remove from the heat.',\n",
       " 'Add the cheeses, salt, chili powder, and garlic powder.',\n",
       " 'Stir until the cheese is melted and all ingredients are incorporated, about 3 minutes.',\n",
       " 'Use immediately, or refrigerate for up to 3 days.',\n",
       " 'This sauce reheats nicely on the stove in a saucepan over low heat.',\n",
       " 'Stir frequently so the sauce doesnt scorch.',\n",
       " 'This recipe can be assembled before baking and frozen for up to 3 monthsjust be sure to use a freezer-to-oven pan and increase the baking time to 50 minutes.',\n",
       " 'One-half teaspoon of chipotle chili powder makes a spicy mac, so make sure your family and friends can handle it!',\n",
       " 'The proportion of pasta to cheese sauce is crucial to the success of the dish.',\n",
       " 'It will look like a lot of sauce for the pasta, but some of the liquid will be absorbed.',\n",
       " 'Cook macaroni according to package directions; drain well.',\n",
       " 'Cold.',\n",
       " 'Combine macaroni, cheese cubes, celery, green pepper and pimento.',\n",
       " 'Blend together mayonnaise or possibly salad dressing, vinegar, salt and dill weed; add in to macaroni mix.',\n",
       " 'Toss lightly.',\n",
       " 'Cover and refrigeratewell.',\n",
       " 'Serve salad in lettuce lined bowl if you like.',\n",
       " 'Makes 6 servings.']"
      ]
     },
     "execution_count": 102,
     "metadata": {},
     "output_type": "execute_result"
    }
   ],
   "source": [
    "instructions"
   ]
  },
  {
   "cell_type": "code",
   "execution_count": null,
   "id": "responsible-fifty",
   "metadata": {},
   "outputs": [],
   "source": []
  },
  {
   "cell_type": "code",
   "execution_count": 152,
   "id": "alternative-jenny",
   "metadata": {},
   "outputs": [],
   "source": [
    "import pandas as pd\n",
    "df = pd.DataFrame()\n",
    "instructions = []\n",
    "id = []\n",
    "url = []\n",
    "ingredients = []\n",
    "for json in data:\n",
    "    id.append(json['id'])\n",
    "    i = pd.Series(id)\n",
    "    url.append(json['url'])\n",
    "    u = pd.Series(url)\n",
    "    instruc = json['instructions']\n",
    "    ingre = json['ingredients']\n",
    "    \n",
    "    for ins in instruc:\n",
    "        instructions_text = ins['text']\n",
    "        instructions.append(instructions_text)\n",
    "        inst = pd.Series(instructions)\n",
    "        \n",
    "    for text in ingre:\n",
    "        ingredients_text = text['text']\n",
    "        ingredients.append(ingredients_text) \n",
    "        ing = pd.Series(ingredients)\n",
    "        \n",
    "    \n",
    "        "
   ]
  },
  {
   "cell_type": "code",
   "execution_count": 153,
   "id": "controversial-counter",
   "metadata": {},
   "outputs": [],
   "source": [
    "df['url'] = u\n",
    "df['id'] = i\n",
    "df['ingredients'] = ing\n",
    "df['instructions'] = inst"
   ]
  },
  {
   "cell_type": "code",
   "execution_count": 154,
   "id": "substantial-newport",
   "metadata": {},
   "outputs": [
    {
     "data": {
      "text/html": [
       "<div>\n",
       "<style scoped>\n",
       "    .dataframe tbody tr th:only-of-type {\n",
       "        vertical-align: middle;\n",
       "    }\n",
       "\n",
       "    .dataframe tbody tr th {\n",
       "        vertical-align: top;\n",
       "    }\n",
       "\n",
       "    .dataframe thead th {\n",
       "        text-align: right;\n",
       "    }\n",
       "</style>\n",
       "<table border=\"1\" class=\"dataframe\">\n",
       "  <thead>\n",
       "    <tr style=\"text-align: right;\">\n",
       "      <th></th>\n",
       "      <th>url</th>\n",
       "      <th>id</th>\n",
       "      <th>ingredients</th>\n",
       "      <th>instructions</th>\n",
       "    </tr>\n",
       "  </thead>\n",
       "  <tbody>\n",
       "    <tr>\n",
       "      <th>0</th>\n",
       "      <td>http://www.epicurious.com/recipes/food/views/-...</td>\n",
       "      <td>000018c8a5</td>\n",
       "      <td>6 ounces penne</td>\n",
       "      <td>Preheat the oven to 350 F. Butter or oil an 8-...</td>\n",
       "    </tr>\n",
       "    <tr>\n",
       "      <th>1</th>\n",
       "      <td>http://cookeatshare.com/recipes/dilly-macaroni...</td>\n",
       "      <td>000033e39b</td>\n",
       "      <td>2 cups Beechers Flagship Cheese Sauce (recipe ...</td>\n",
       "      <td>Cook the penne 2 minutes less than package dir...</td>\n",
       "    </tr>\n",
       "  </tbody>\n",
       "</table>\n",
       "</div>"
      ],
      "text/plain": [
       "                                                 url          id  \\\n",
       "0  http://www.epicurious.com/recipes/food/views/-...  000018c8a5   \n",
       "1  http://cookeatshare.com/recipes/dilly-macaroni...  000033e39b   \n",
       "\n",
       "                                         ingredients  \\\n",
       "0                                     6 ounces penne   \n",
       "1  2 cups Beechers Flagship Cheese Sauce (recipe ...   \n",
       "\n",
       "                                        instructions  \n",
       "0  Preheat the oven to 350 F. Butter or oil an 8-...  \n",
       "1  Cook the penne 2 minutes less than package dir...  "
      ]
     },
     "execution_count": 154,
     "metadata": {},
     "output_type": "execute_result"
    }
   ],
   "source": [
    "df"
   ]
  },
  {
   "cell_type": "code",
   "execution_count": 146,
   "id": "private-prime",
   "metadata": {},
   "outputs": [
    {
     "data": {
      "text/plain": [
       "0    Preheat the oven to 350 F. Butter or oil an 8-...\n",
       "Name: instructions, dtype: object"
      ]
     },
     "execution_count": 146,
     "metadata": {},
     "output_type": "execute_result"
    }
   ],
   "source": [
    "df.loc[:,'instructions']"
   ]
  },
  {
   "cell_type": "code",
   "execution_count": 135,
   "id": "gross-record",
   "metadata": {},
   "outputs": [
    {
     "data": {
      "text/plain": [
       "'Preheat the oven to 350 F. Butter or oil an 8-inch baking dish.'"
      ]
     },
     "execution_count": 135,
     "metadata": {},
     "output_type": "execute_result"
    }
   ],
   "source": [
    "df.loc[:,'instructions'][0]\n"
   ]
  },
  {
   "cell_type": "code",
   "execution_count": null,
   "id": "natural-zealand",
   "metadata": {},
   "outputs": [],
   "source": []
  },
  {
   "cell_type": "code",
   "execution_count": 177,
   "id": "cross-borough",
   "metadata": {},
   "outputs": [],
   "source": [
    "d = pd.DataFrame()\n",
    "lst = []\n",
    "for ins in instruc:\n",
    "        instructions_text = ins['text']\n",
    "        lst.append(instructions_text)\n",
    "        p = pd.Series(lst)\n",
    "d = p\n",
    "        \n",
    "        "
   ]
  },
  {
   "cell_type": "code",
   "execution_count": 206,
   "id": "dying-steam",
   "metadata": {},
   "outputs": [
    {
     "data": {
      "text/plain": [
       "Preheat the oven to 350 F. Butter or oil an 8-inch baking dish. Cook the penne 2 minutes less than package directions. (It will finish cooking in the oven.) Rinse the pasta in cold water and set aside. Combine the cooked pasta and the sauce in a medium bowl and mix carefully but thoroughly. Scrape the pasta into the prepared baking dish. Sprinkle the top with the cheeses and then the chili powder. Bake, uncovered, for 20 minutes. Let the mac and cheese sit for 5 minutes before serving. Melt the butter in a heavy-bottomed saucepan over medium heat and whisk in the flour. Continue whisking and cooking for 2 minutes. Slowly add the milk, whisking constantly. Cook until the sauce thickens, about 10 minutes, stirring frequently. Remove from the heat. Add the cheeses, salt, chili powder, and garlic powder. Stir until the cheese is melted and all ingredients are incorporated, about 3 minutes. Use immediately, or refrigerate for up to 3 days. This sauce reheats nicely on the stove in a saucepan over low heat. Stir frequently so the sauce doesnt scorch. This recipe can be assembled before baking and frozen for up to 3 monthsjust be sure to use a freezer-to-oven pan and increase the baking time to 50 minutes. One-half teaspoon of chipotle chili powder makes a spicy mac, so make sure your family and friends can handle it! The proportion of pasta to cheese sauce is crucial to the success of the dish. It will look like a lot of sauce for the pasta, but some of the liquid will be absorbed. Cook macaroni according to package directions; drain well. Cold. Combine macaroni, cheese cubes, celery, green pepper and pimento. Blend together mayonnaise or possibly salad dressing, vinegar, salt and dill weed; add in to macaroni mix. Toss lightly. Cover and refrigeratewell. Serve salad in lettuce lined bowl if you like. Makes 6 servings.    1\n",
       "Name: 0, dtype: int64"
      ]
     },
     "execution_count": 206,
     "metadata": {},
     "output_type": "execute_result"
    }
   ],
   "source": [
    "ins = ' '.join(instructions)\n",
    "type(ins)\n",
    "instruction_series = pd.Series(ins)\n",
    "instructions_dataframe = pd.DataFrame(instruction_series)\n",
    "instructions_dataframe[0].value_counts()"
   ]
  },
  {
   "cell_type": "code",
   "execution_count": 202,
   "id": "defensive-fleece",
   "metadata": {},
   "outputs": [
    {
     "data": {
      "text/plain": [
       "['Preheat the oven to 350 F. Butter or oil an 8-inch baking dish.',\n",
       " 'Cook the penne 2 minutes less than package directions.',\n",
       " '(It will finish cooking in the oven.)',\n",
       " 'Rinse the pasta in cold water and set aside.',\n",
       " 'Combine the cooked pasta and the sauce in a medium bowl and mix carefully but thoroughly.',\n",
       " 'Scrape the pasta into the prepared baking dish.',\n",
       " 'Sprinkle the top with the cheeses and then the chili powder.',\n",
       " 'Bake, uncovered, for 20 minutes.',\n",
       " 'Let the mac and cheese sit for 5 minutes before serving.',\n",
       " 'Melt the butter in a heavy-bottomed saucepan over medium heat and whisk in the flour.',\n",
       " 'Continue whisking and cooking for 2 minutes.',\n",
       " 'Slowly add the milk, whisking constantly.',\n",
       " 'Cook until the sauce thickens, about 10 minutes, stirring frequently.',\n",
       " 'Remove from the heat.',\n",
       " 'Add the cheeses, salt, chili powder, and garlic powder.',\n",
       " 'Stir until the cheese is melted and all ingredients are incorporated, about 3 minutes.',\n",
       " 'Use immediately, or refrigerate for up to 3 days.',\n",
       " 'This sauce reheats nicely on the stove in a saucepan over low heat.',\n",
       " 'Stir frequently so the sauce doesnt scorch.',\n",
       " 'This recipe can be assembled before baking and frozen for up to 3 monthsjust be sure to use a freezer-to-oven pan and increase the baking time to 50 minutes.',\n",
       " 'One-half teaspoon of chipotle chili powder makes a spicy mac, so make sure your family and friends can handle it!',\n",
       " 'The proportion of pasta to cheese sauce is crucial to the success of the dish.',\n",
       " 'It will look like a lot of sauce for the pasta, but some of the liquid will be absorbed.',\n",
       " 'Cook macaroni according to package directions; drain well.',\n",
       " 'Cold.',\n",
       " 'Combine macaroni, cheese cubes, celery, green pepper and pimento.',\n",
       " 'Blend together mayonnaise or possibly salad dressing, vinegar, salt and dill weed; add in to macaroni mix.',\n",
       " 'Toss lightly.',\n",
       " 'Cover and refrigeratewell.',\n",
       " 'Serve salad in lettuce lined bowl if you like.',\n",
       " 'Makes 6 servings.']"
      ]
     },
     "execution_count": 202,
     "metadata": {},
     "output_type": "execute_result"
    }
   ],
   "source": [
    "instructions"
   ]
  },
  {
   "cell_type": "code",
   "execution_count": 248,
   "id": "stuffed-reserve",
   "metadata": {},
   "outputs": [
    {
     "data": {
      "text/plain": [
       "[{'text': '1 c. elbow macaroni'},\n",
       " {'text': '1 c. cubed American cheese (4 ounce.)'},\n",
       " {'text': '1/2 c. sliced celery'},\n",
       " {'text': '1/2 c. minced green pepper'},\n",
       " {'text': '3 tbsp. minced pimento'},\n",
       " {'text': '1/2 c. mayonnaise or possibly salad dressing'},\n",
       " {'text': '1 tbsp. vinegar'},\n",
       " {'text': '3/4 teaspoon salt'},\n",
       " {'text': '1/2 teaspoon dry dill weed'}]"
      ]
     },
     "execution_count": 248,
     "metadata": {},
     "output_type": "execute_result"
    }
   ],
   "source": [
    "ingredients"
   ]
  },
  {
   "cell_type": "code",
   "execution_count": 7,
   "id": "standard-corruption",
   "metadata": {},
   "outputs": [],
   "source": [
    "ww = pd.DataFrame(data)"
   ]
  },
  {
   "cell_type": "code",
   "execution_count": 8,
   "id": "vital-fortune",
   "metadata": {},
   "outputs": [
    {
     "data": {
      "text/plain": [
       "0    [{'text': '6 ounces penne'}, {'text': '2 cups ...\n",
       "1    [{'text': '1 c. elbow macaroni'}, {'text': '1 ...\n",
       "Name: ingredients, dtype: object"
      ]
     },
     "execution_count": 8,
     "metadata": {},
     "output_type": "execute_result"
    }
   ],
   "source": [
    "ww.ingredients"
   ]
  },
  {
   "cell_type": "code",
   "execution_count": 9,
   "id": "forced-title",
   "metadata": {},
   "outputs": [],
   "source": [
    "for i in range(len(ww.ingredients)):\n",
    "    lst = []\n",
    "    ing = ww.ingredients[i]\n",
    "    for ingred in ing:\n",
    "        ingredients_text = ingred['text']\n",
    "        lst.append(ingredients_text)\n",
    "        l = ' '.join(lst)\n",
    "        ww.ingredients[i] = l\n",
    "        \n",
    "    "
   ]
  },
  {
   "cell_type": "code",
   "execution_count": 10,
   "id": "baking-feedback",
   "metadata": {},
   "outputs": [
    {
     "data": {
      "text/html": [
       "<div>\n",
       "<style scoped>\n",
       "    .dataframe tbody tr th:only-of-type {\n",
       "        vertical-align: middle;\n",
       "    }\n",
       "\n",
       "    .dataframe tbody tr th {\n",
       "        vertical-align: top;\n",
       "    }\n",
       "\n",
       "    .dataframe thead th {\n",
       "        text-align: right;\n",
       "    }\n",
       "</style>\n",
       "<table border=\"1\" class=\"dataframe\">\n",
       "  <thead>\n",
       "    <tr style=\"text-align: right;\">\n",
       "      <th></th>\n",
       "      <th>ingredients</th>\n",
       "      <th>url</th>\n",
       "      <th>partition</th>\n",
       "      <th>title</th>\n",
       "      <th>id</th>\n",
       "      <th>instructions</th>\n",
       "    </tr>\n",
       "  </thead>\n",
       "  <tbody>\n",
       "    <tr>\n",
       "      <th>0</th>\n",
       "      <td>6 ounces penne 2 cups Beechers Flagship Cheese...</td>\n",
       "      <td>http://www.epicurious.com/recipes/food/views/-...</td>\n",
       "      <td>train</td>\n",
       "      <td>Worlds Best Mac and Cheese</td>\n",
       "      <td>000018c8a5</td>\n",
       "      <td>[{'text': 'Preheat the oven to 350 F. Butter o...</td>\n",
       "    </tr>\n",
       "    <tr>\n",
       "      <th>1</th>\n",
       "      <td>1 c. elbow macaroni 1 c. cubed American cheese...</td>\n",
       "      <td>http://cookeatshare.com/recipes/dilly-macaroni...</td>\n",
       "      <td>train</td>\n",
       "      <td>Dilly Macaroni Salad Recipe</td>\n",
       "      <td>000033e39b</td>\n",
       "      <td>[{'text': 'Cook macaroni according to package ...</td>\n",
       "    </tr>\n",
       "  </tbody>\n",
       "</table>\n",
       "</div>"
      ],
      "text/plain": [
       "                                         ingredients  \\\n",
       "0  6 ounces penne 2 cups Beechers Flagship Cheese...   \n",
       "1  1 c. elbow macaroni 1 c. cubed American cheese...   \n",
       "\n",
       "                                                 url partition  \\\n",
       "0  http://www.epicurious.com/recipes/food/views/-...     train   \n",
       "1  http://cookeatshare.com/recipes/dilly-macaroni...     train   \n",
       "\n",
       "                         title          id  \\\n",
       "0   Worlds Best Mac and Cheese  000018c8a5   \n",
       "1  Dilly Macaroni Salad Recipe  000033e39b   \n",
       "\n",
       "                                        instructions  \n",
       "0  [{'text': 'Preheat the oven to 350 F. Butter o...  \n",
       "1  [{'text': 'Cook macaroni according to package ...  "
      ]
     },
     "execution_count": 10,
     "metadata": {},
     "output_type": "execute_result"
    }
   ],
   "source": [
    "ww"
   ]
  },
  {
   "cell_type": "code",
   "execution_count": null,
   "id": "sufficient-nevada",
   "metadata": {},
   "outputs": [],
   "source": []
  },
  {
   "cell_type": "code",
   "execution_count": null,
   "id": "tight-gallery",
   "metadata": {},
   "outputs": [],
   "source": []
  },
  {
   "cell_type": "code",
   "execution_count": null,
   "id": "romance-stream",
   "metadata": {},
   "outputs": [],
   "source": []
  },
  {
   "cell_type": "code",
   "execution_count": null,
   "id": "latest-comment",
   "metadata": {},
   "outputs": [],
   "source": []
  },
  {
   "cell_type": "code",
   "execution_count": 11,
   "id": "bottom-guidance",
   "metadata": {},
   "outputs": [],
   "source": [
    "for i in range(len(ww.instructions)):\n",
    "    instructions = []\n",
    "    ins = ww.instructions[i]\n",
    "    for instruc in ins:\n",
    "        instructions_text = instruc['text']\n",
    "        instructions.append(instructions_text)\n",
    "        instructions_single_string = ' '.join(instructions)\n",
    "        ww.instructions[i] = instructions_single_string"
   ]
  },
  {
   "cell_type": "code",
   "execution_count": 12,
   "id": "productive-flavor",
   "metadata": {},
   "outputs": [
    {
     "data": {
      "text/html": [
       "<div>\n",
       "<style scoped>\n",
       "    .dataframe tbody tr th:only-of-type {\n",
       "        vertical-align: middle;\n",
       "    }\n",
       "\n",
       "    .dataframe tbody tr th {\n",
       "        vertical-align: top;\n",
       "    }\n",
       "\n",
       "    .dataframe thead th {\n",
       "        text-align: right;\n",
       "    }\n",
       "</style>\n",
       "<table border=\"1\" class=\"dataframe\">\n",
       "  <thead>\n",
       "    <tr style=\"text-align: right;\">\n",
       "      <th></th>\n",
       "      <th>ingredients</th>\n",
       "      <th>url</th>\n",
       "      <th>partition</th>\n",
       "      <th>title</th>\n",
       "      <th>id</th>\n",
       "      <th>instructions</th>\n",
       "    </tr>\n",
       "  </thead>\n",
       "  <tbody>\n",
       "    <tr>\n",
       "      <th>0</th>\n",
       "      <td>6 ounces penne 2 cups Beechers Flagship Cheese...</td>\n",
       "      <td>http://www.epicurious.com/recipes/food/views/-...</td>\n",
       "      <td>train</td>\n",
       "      <td>Worlds Best Mac and Cheese</td>\n",
       "      <td>000018c8a5</td>\n",
       "      <td>Preheat the oven to 350 F. Butter or oil an 8-...</td>\n",
       "    </tr>\n",
       "    <tr>\n",
       "      <th>1</th>\n",
       "      <td>1 c. elbow macaroni 1 c. cubed American cheese...</td>\n",
       "      <td>http://cookeatshare.com/recipes/dilly-macaroni...</td>\n",
       "      <td>train</td>\n",
       "      <td>Dilly Macaroni Salad Recipe</td>\n",
       "      <td>000033e39b</td>\n",
       "      <td>Cook macaroni according to package directions;...</td>\n",
       "    </tr>\n",
       "  </tbody>\n",
       "</table>\n",
       "</div>"
      ],
      "text/plain": [
       "                                         ingredients  \\\n",
       "0  6 ounces penne 2 cups Beechers Flagship Cheese...   \n",
       "1  1 c. elbow macaroni 1 c. cubed American cheese...   \n",
       "\n",
       "                                                 url partition  \\\n",
       "0  http://www.epicurious.com/recipes/food/views/-...     train   \n",
       "1  http://cookeatshare.com/recipes/dilly-macaroni...     train   \n",
       "\n",
       "                         title          id  \\\n",
       "0   Worlds Best Mac and Cheese  000018c8a5   \n",
       "1  Dilly Macaroni Salad Recipe  000033e39b   \n",
       "\n",
       "                                        instructions  \n",
       "0  Preheat the oven to 350 F. Butter or oil an 8-...  \n",
       "1  Cook macaroni according to package directions;...  "
      ]
     },
     "execution_count": 12,
     "metadata": {},
     "output_type": "execute_result"
    }
   ],
   "source": [
    "ww"
   ]
  },
  {
   "cell_type": "code",
   "execution_count": 257,
   "id": "scientific-growing",
   "metadata": {},
   "outputs": [
    {
     "data": {
      "text/plain": [
       "Preheat the oven to 350 F. Butter or oil an 8-inch baking dish. Cook the penne 2 minutes less than package directions. (It will finish cooking in the oven.) Rinse the pasta in cold water and set aside. Combine the cooked pasta and the sauce in a medium bowl and mix carefully but thoroughly. Scrape the pasta into the prepared baking dish. Sprinkle the top with the cheeses and then the chili powder. Bake, uncovered, for 20 minutes. Let the mac and cheese sit for 5 minutes before serving. Melt the butter in a heavy-bottomed saucepan over medium heat and whisk in the flour. Continue whisking and cooking for 2 minutes. Slowly add the milk, whisking constantly. Cook until the sauce thickens, about 10 minutes, stirring frequently. Remove from the heat. Add the cheeses, salt, chili powder, and garlic powder. Stir until the cheese is melted and all ingredients are incorporated, about 3 minutes. Use immediately, or refrigerate for up to 3 days. This sauce reheats nicely on the stove in a saucepan over low heat. Stir frequently so the sauce doesnt scorch. This recipe can be assembled before baking and frozen for up to 3 monthsjust be sure to use a freezer-to-oven pan and increase the baking time to 50 minutes. One-half teaspoon of chipotle chili powder makes a spicy mac, so make sure your family and friends can handle it! The proportion of pasta to cheese sauce is crucial to the success of the dish. It will look like a lot of sauce for the pasta, but some of the liquid will be absorbed.    1\n",
       "Cook macaroni according to package directions; drain well. Cold. Combine macaroni, cheese cubes, celery, green pepper and pimento. Blend together mayonnaise or possibly salad dressing, vinegar, salt and dill weed; add in to macaroni mix. Toss lightly. Cover and refrigeratewell. Serve salad in lettuce lined bowl if you like. Makes 6 servings.                                                                                                                                                                                                                                                                                                                                                                                                                                                                                                                                                                                                                                                                                                                                                                                                                                                                                                                                                                                                                                                                                                                                                                                                         1\n",
       "Name: instructions, dtype: int64"
      ]
     },
     "execution_count": 257,
     "metadata": {},
     "output_type": "execute_result"
    }
   ],
   "source": [
    "ww.instructions.value_counts()"
   ]
  },
  {
   "cell_type": "code",
   "execution_count": 13,
   "id": "academic-affect",
   "metadata": {},
   "outputs": [],
   "source": [
    "ww['ingredients_word_count'] = ww['ingredients'].apply(lambda x: len(str(x).split()))"
   ]
  },
  {
   "cell_type": "code",
   "execution_count": null,
   "id": "disciplinary-briefing",
   "metadata": {},
   "outputs": [],
   "source": []
  },
  {
   "cell_type": "code",
   "execution_count": 15,
   "id": "warming-creativity",
   "metadata": {},
   "outputs": [
    {
     "data": {
      "text/html": [
       "<div>\n",
       "<style scoped>\n",
       "    .dataframe tbody tr th:only-of-type {\n",
       "        vertical-align: middle;\n",
       "    }\n",
       "\n",
       "    .dataframe tbody tr th {\n",
       "        vertical-align: top;\n",
       "    }\n",
       "\n",
       "    .dataframe thead th {\n",
       "        text-align: right;\n",
       "    }\n",
       "</style>\n",
       "<table border=\"1\" class=\"dataframe\">\n",
       "  <thead>\n",
       "    <tr style=\"text-align: right;\">\n",
       "      <th></th>\n",
       "      <th>ingredients</th>\n",
       "      <th>url</th>\n",
       "      <th>partition</th>\n",
       "      <th>title</th>\n",
       "      <th>id</th>\n",
       "      <th>instructions</th>\n",
       "      <th>ingredients_word_count</th>\n",
       "    </tr>\n",
       "  </thead>\n",
       "  <tbody>\n",
       "    <tr>\n",
       "      <th>0</th>\n",
       "      <td>6 ounces penne 2 cups Beechers Flagship Cheese...</td>\n",
       "      <td>http://www.epicurious.com/recipes/food/views/-...</td>\n",
       "      <td>train</td>\n",
       "      <td>Worlds Best Mac and Cheese</td>\n",
       "      <td>000018c8a5</td>\n",
       "      <td>Preheat the oven to 350 F. Butter or oil an 8-...</td>\n",
       "      <td>85</td>\n",
       "    </tr>\n",
       "    <tr>\n",
       "      <th>1</th>\n",
       "      <td>1 c. elbow macaroni 1 c. cubed American cheese...</td>\n",
       "      <td>http://cookeatshare.com/recipes/dilly-macaroni...</td>\n",
       "      <td>train</td>\n",
       "      <td>Dilly Macaroni Salad Recipe</td>\n",
       "      <td>000033e39b</td>\n",
       "      <td>Cook macaroni according to package directions;...</td>\n",
       "      <td>42</td>\n",
       "    </tr>\n",
       "  </tbody>\n",
       "</table>\n",
       "</div>"
      ],
      "text/plain": [
       "                                         ingredients  \\\n",
       "0  6 ounces penne 2 cups Beechers Flagship Cheese...   \n",
       "1  1 c. elbow macaroni 1 c. cubed American cheese...   \n",
       "\n",
       "                                                 url partition  \\\n",
       "0  http://www.epicurious.com/recipes/food/views/-...     train   \n",
       "1  http://cookeatshare.com/recipes/dilly-macaroni...     train   \n",
       "\n",
       "                         title          id  \\\n",
       "0   Worlds Best Mac and Cheese  000018c8a5   \n",
       "1  Dilly Macaroni Salad Recipe  000033e39b   \n",
       "\n",
       "                                        instructions  ingredients_word_count  \n",
       "0  Preheat the oven to 350 F. Butter or oil an 8-...                      85  \n",
       "1  Cook macaroni according to package directions;...                      42  "
      ]
     },
     "execution_count": 15,
     "metadata": {},
     "output_type": "execute_result"
    }
   ],
   "source": [
    "ww"
   ]
  },
  {
   "cell_type": "code",
   "execution_count": 16,
   "id": "seeing-material",
   "metadata": {},
   "outputs": [],
   "source": [
    "# char count\n",
    "ww['ingredients_char_count'] = ww.ingredients.apply(lambda x: len(x))"
   ]
  },
  {
   "cell_type": "code",
   "execution_count": 17,
   "id": "dress-witness",
   "metadata": {},
   "outputs": [],
   "source": [
    "from spacy.lang.en.stop_words import STOP_WORDS"
   ]
  },
  {
   "cell_type": "code",
   "execution_count": 18,
   "id": "female-solid",
   "metadata": {},
   "outputs": [],
   "source": [
    "ww['ingredients_stopwords'] = ww['ingredients'].apply(lambda x: len([t for t in x.split() if t in STOP_WORDS]))"
   ]
  },
  {
   "cell_type": "code",
   "execution_count": 19,
   "id": "descending-wichita",
   "metadata": {},
   "outputs": [
    {
     "data": {
      "text/html": [
       "<div>\n",
       "<style scoped>\n",
       "    .dataframe tbody tr th:only-of-type {\n",
       "        vertical-align: middle;\n",
       "    }\n",
       "\n",
       "    .dataframe tbody tr th {\n",
       "        vertical-align: top;\n",
       "    }\n",
       "\n",
       "    .dataframe thead th {\n",
       "        text-align: right;\n",
       "    }\n",
       "</style>\n",
       "<table border=\"1\" class=\"dataframe\">\n",
       "  <thead>\n",
       "    <tr style=\"text-align: right;\">\n",
       "      <th></th>\n",
       "      <th>ingredients</th>\n",
       "      <th>url</th>\n",
       "      <th>partition</th>\n",
       "      <th>title</th>\n",
       "      <th>id</th>\n",
       "      <th>instructions</th>\n",
       "      <th>ingredients_word_count</th>\n",
       "      <th>ingredients_char_count</th>\n",
       "      <th>ingredients_stopwords</th>\n",
       "    </tr>\n",
       "  </thead>\n",
       "  <tbody>\n",
       "    <tr>\n",
       "      <th>0</th>\n",
       "      <td>6 ounces penne 2 cups Beechers Flagship Cheese...</td>\n",
       "      <td>http://www.epicurious.com/recipes/food/views/-...</td>\n",
       "      <td>train</td>\n",
       "      <td>Worlds Best Mac and Cheese</td>\n",
       "      <td>000018c8a5</td>\n",
       "      <td>Preheat the oven to 350 F. Butter or oil an 8-...</td>\n",
       "      <td>85</td>\n",
       "      <td>502</td>\n",
       "      <td>3</td>\n",
       "    </tr>\n",
       "    <tr>\n",
       "      <th>1</th>\n",
       "      <td>1 c. elbow macaroni 1 c. cubed American cheese...</td>\n",
       "      <td>http://cookeatshare.com/recipes/dilly-macaroni...</td>\n",
       "      <td>train</td>\n",
       "      <td>Dilly Macaroni Salad Recipe</td>\n",
       "      <td>000033e39b</td>\n",
       "      <td>Cook macaroni according to package directions;...</td>\n",
       "      <td>42</td>\n",
       "      <td>234</td>\n",
       "      <td>1</td>\n",
       "    </tr>\n",
       "  </tbody>\n",
       "</table>\n",
       "</div>"
      ],
      "text/plain": [
       "                                         ingredients  \\\n",
       "0  6 ounces penne 2 cups Beechers Flagship Cheese...   \n",
       "1  1 c. elbow macaroni 1 c. cubed American cheese...   \n",
       "\n",
       "                                                 url partition  \\\n",
       "0  http://www.epicurious.com/recipes/food/views/-...     train   \n",
       "1  http://cookeatshare.com/recipes/dilly-macaroni...     train   \n",
       "\n",
       "                         title          id  \\\n",
       "0   Worlds Best Mac and Cheese  000018c8a5   \n",
       "1  Dilly Macaroni Salad Recipe  000033e39b   \n",
       "\n",
       "                                        instructions  ingredients_word_count  \\\n",
       "0  Preheat the oven to 350 F. Butter or oil an 8-...                      85   \n",
       "1  Cook macaroni according to package directions;...                      42   \n",
       "\n",
       "   ingredients_char_count  ingredients_stopwords  \n",
       "0                     502                      3  \n",
       "1                     234                      1  "
      ]
     },
     "execution_count": 19,
     "metadata": {},
     "output_type": "execute_result"
    }
   ],
   "source": [
    "ww"
   ]
  },
  {
   "cell_type": "code",
   "execution_count": 20,
   "id": "cheap-strength",
   "metadata": {},
   "outputs": [],
   "source": [
    "ww['ingredients'] = ww.ingredients.apply(lambda x: x.lower())"
   ]
  },
  {
   "cell_type": "code",
   "execution_count": 21,
   "id": "incorporate-mother",
   "metadata": {},
   "outputs": [
    {
     "data": {
      "text/html": [
       "<div>\n",
       "<style scoped>\n",
       "    .dataframe tbody tr th:only-of-type {\n",
       "        vertical-align: middle;\n",
       "    }\n",
       "\n",
       "    .dataframe tbody tr th {\n",
       "        vertical-align: top;\n",
       "    }\n",
       "\n",
       "    .dataframe thead th {\n",
       "        text-align: right;\n",
       "    }\n",
       "</style>\n",
       "<table border=\"1\" class=\"dataframe\">\n",
       "  <thead>\n",
       "    <tr style=\"text-align: right;\">\n",
       "      <th></th>\n",
       "      <th>ingredients</th>\n",
       "      <th>url</th>\n",
       "      <th>partition</th>\n",
       "      <th>title</th>\n",
       "      <th>id</th>\n",
       "      <th>instructions</th>\n",
       "      <th>ingredients_word_count</th>\n",
       "      <th>ingredients_char_count</th>\n",
       "      <th>ingredients_stopwords</th>\n",
       "    </tr>\n",
       "  </thead>\n",
       "  <tbody>\n",
       "    <tr>\n",
       "      <th>0</th>\n",
       "      <td>6 ounces penne 2 cups beechers flagship cheese...</td>\n",
       "      <td>http://www.epicurious.com/recipes/food/views/-...</td>\n",
       "      <td>train</td>\n",
       "      <td>Worlds Best Mac and Cheese</td>\n",
       "      <td>000018c8a5</td>\n",
       "      <td>Preheat the oven to 350 F. Butter or oil an 8-...</td>\n",
       "      <td>85</td>\n",
       "      <td>502</td>\n",
       "      <td>3</td>\n",
       "    </tr>\n",
       "    <tr>\n",
       "      <th>1</th>\n",
       "      <td>1 c. elbow macaroni 1 c. cubed american cheese...</td>\n",
       "      <td>http://cookeatshare.com/recipes/dilly-macaroni...</td>\n",
       "      <td>train</td>\n",
       "      <td>Dilly Macaroni Salad Recipe</td>\n",
       "      <td>000033e39b</td>\n",
       "      <td>Cook macaroni according to package directions;...</td>\n",
       "      <td>42</td>\n",
       "      <td>234</td>\n",
       "      <td>1</td>\n",
       "    </tr>\n",
       "  </tbody>\n",
       "</table>\n",
       "</div>"
      ],
      "text/plain": [
       "                                         ingredients  \\\n",
       "0  6 ounces penne 2 cups beechers flagship cheese...   \n",
       "1  1 c. elbow macaroni 1 c. cubed american cheese...   \n",
       "\n",
       "                                                 url partition  \\\n",
       "0  http://www.epicurious.com/recipes/food/views/-...     train   \n",
       "1  http://cookeatshare.com/recipes/dilly-macaroni...     train   \n",
       "\n",
       "                         title          id  \\\n",
       "0   Worlds Best Mac and Cheese  000018c8a5   \n",
       "1  Dilly Macaroni Salad Recipe  000033e39b   \n",
       "\n",
       "                                        instructions  ingredients_word_count  \\\n",
       "0  Preheat the oven to 350 F. Butter or oil an 8-...                      85   \n",
       "1  Cook macaroni according to package directions;...                      42   \n",
       "\n",
       "   ingredients_char_count  ingredients_stopwords  \n",
       "0                     502                      3  \n",
       "1                     234                      1  "
      ]
     },
     "execution_count": 21,
     "metadata": {},
     "output_type": "execute_result"
    }
   ],
   "source": [
    "ww"
   ]
  },
  {
   "cell_type": "code",
   "execution_count": 25,
   "id": "impaired-catalog",
   "metadata": {},
   "outputs": [],
   "source": [
    "import spacy\n",
    "nlp = spacy.load('en_core_web_sm')"
   ]
  },
  {
   "cell_type": "code",
   "execution_count": 26,
   "id": "forward-bacon",
   "metadata": {},
   "outputs": [
    {
     "name": "stdout",
     "output_type": "stream",
     "text": [
      "run\n",
      "run\n",
      "run\n",
      "runner\n"
     ]
    }
   ],
   "source": [
    "x = 'run ran running runner'\n",
    "doc = nlp(x)\n",
    "for token in doc:\n",
    "    print(token.lemma_)"
   ]
  },
  {
   "cell_type": "code",
   "execution_count": null,
   "id": "solved-radar",
   "metadata": {},
   "outputs": [],
   "source": []
  },
  {
   "cell_type": "code",
   "execution_count": null,
   "id": "chinese-cyprus",
   "metadata": {},
   "outputs": [],
   "source": []
  },
  {
   "cell_type": "code",
   "execution_count": null,
   "id": "industrial-terrorist",
   "metadata": {},
   "outputs": [],
   "source": []
  }
 ],
 "metadata": {
  "kernelspec": {
   "display_name": "Python 3",
   "language": "python",
   "name": "python3"
  },
  "language_info": {
   "codemirror_mode": {
    "name": "ipython",
    "version": 3
   },
   "file_extension": ".py",
   "mimetype": "text/x-python",
   "name": "python",
   "nbconvert_exporter": "python",
   "pygments_lexer": "ipython3",
   "version": "3.8.5"
  }
 },
 "nbformat": 4,
 "nbformat_minor": 5
}
