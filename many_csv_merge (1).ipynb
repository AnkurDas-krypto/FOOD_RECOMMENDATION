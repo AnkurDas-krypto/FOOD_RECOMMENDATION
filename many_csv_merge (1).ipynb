{
 "cells": [
  {
   "cell_type": "code",
   "execution_count": null,
   "id": "herbal-sailing",
   "metadata": {},
   "outputs": [],
   "source": [
    "C:\\Users\\ankur\\OneDrive\\Desktop\\Internship"
   ]
  },
  {
   "cell_type": "code",
   "execution_count": 6,
   "id": "seven-invite",
   "metadata": {},
   "outputs": [],
   "source": [
    "import os\n",
    "import glob\n",
    "import pandas as pd"
   ]
  },
  {
   "cell_type": "code",
   "execution_count": 17,
   "id": "perfect-subcommittee",
   "metadata": {},
   "outputs": [],
   "source": [
    "os.chdir(r\"C:\\Users\\ankur\\OneDrive\\Desktop\\Internship\\allrecipe_41-45\")"
   ]
  },
  {
   "cell_type": "code",
   "execution_count": 18,
   "id": "confirmed-concert",
   "metadata": {},
   "outputs": [
    {
     "name": "stdout",
     "output_type": "stream",
     "text": [
      "['layer1_food_dataset_41.csv', 'layer1_food_dataset_42.csv', 'layer1_food_dataset_43.csv', 'layer1_food_dataset_44.csv', 'layer1_food_dataset_45.csv']\n"
     ]
    }
   ],
   "source": [
    "extension = 'csv'\n",
    "all_filenames = [i for i in glob.glob('*.{}'.format(extension))]\n",
    "print(all_filenames)"
   ]
  },
  {
   "cell_type": "code",
   "execution_count": 19,
   "id": "governmental-benefit",
   "metadata": {},
   "outputs": [],
   "source": [
    "allrecipe_41_45 = pd.concat([pd.read_csv(f) for f in all_filenames ])\n",
    "#export to csv\n",
    "allrecipe_41_45.to_csv( \"allrecipe_41_45.csv\", index=False, encoding='utf-8-sig')"
   ]
  },
  {
   "cell_type": "code",
   "execution_count": null,
   "id": "selected-worth",
   "metadata": {},
   "outputs": [],
   "source": []
  },
  {
   "cell_type": "code",
   "execution_count": null,
   "id": "painful-relaxation",
   "metadata": {},
   "outputs": [],
   "source": []
  },
  {
   "cell_type": "code",
   "execution_count": null,
   "id": "occasional-canvas",
   "metadata": {},
   "outputs": [],
   "source": []
  },
  {
   "cell_type": "code",
   "execution_count": null,
   "id": "cutting-cornwall",
   "metadata": {},
   "outputs": [],
   "source": []
  },
  {
   "cell_type": "code",
   "execution_count": null,
   "id": "serial-technician",
   "metadata": {},
   "outputs": [],
   "source": []
  }
 ],
 "metadata": {
  "kernelspec": {
   "display_name": "Python 3",
   "language": "python",
   "name": "python3"
  },
  "language_info": {
   "codemirror_mode": {
    "name": "ipython",
    "version": 3
   },
   "file_extension": ".py",
   "mimetype": "text/x-python",
   "name": "python",
   "nbconvert_exporter": "python",
   "pygments_lexer": "ipython3",
   "version": "3.8.5"
  }
 },
 "nbformat": 4,
 "nbformat_minor": 5
}
